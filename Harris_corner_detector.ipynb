{
 "cells": [
  {
   "cell_type": "markdown",
   "metadata": {},
   "source": [
    "[Programming Computer Vision with Python(p45)](http://programmingcomputervision.com/downloads/ProgrammingComputerVision_CCdraft.pdf)  \n",
    "[살군의 보조기억 장치](https://salkuma.wordpress.com/tag/harris-corner-detector/)  \n",
    "[Corner Detection](http://carstart.tistory.com/186)  \n",
    "[OpenCV(Shi-Tomasi Corner Detector)](http://opencv-python-tutroals.readthedocs.io/en/latest/py_tutorials/py_feature2d/py_shi_tomasi/py_shi_tomasi.html)  \n",
    "[Harris Corner Detection-OpenCV](https://fahmifahim.com/tag/opencv/)  \n",
    "[다크 프로그래머(영상 특짐점 추출방법)](http://darkpgmr.tistory.com/131)  \n",
    "[노이즈와 가우시안 필터](http://matlabcode.blogspot.com/2007/03/blog-post_2628.html)  \n",
    "[가우시안 스무딩](http://iskim3068.tistory.com/41)  \n",
    "[행렬식-1(determinant)](https://ko.wikipedia.org/wiki/%ED%96%89%EB%A0%AC%EC%8B%9D)  \n",
    "[행렬식-2 구하는 방법](https://m.blog.naver.com/papers/220493181465)  \n",
    "[대각합(trace)](https://ko.wikipedia.org/wiki/%EB%8C%80%EA%B0%81%ED%95%A9)  \n",
    "\n",
    "아래 내용은 상기 링크를 정리한것"
   ]
  },
  {
   "cell_type": "markdown",
   "metadata": {},
   "source": [
    "# Harris corner detector[1988]"
   ]
  },
  {
   "cell_type": "markdown",
   "metadata": {},
   "source": [
    "우선은 우리가 왜 코너를 찾는 것이 중요한지를 알아야한다.  \n",
    "Corner detector는 코너의 점을 찾는 것이다.\n",
    "![corner detector](http://opencv-python-tutroals.readthedocs.io/en/latest/_images/shitomasi_block1.jpg)  \n"
   ]
  },
  {
   "cell_type": "markdown",
   "metadata": {},
   "source": [
    "즉, Corner의 점들은 정보이며, 그 정보는 모형(Shape)나 추적(Tracking)등의 분야에 중요한 기준점이 되기 때문이다."
   ]
  },
  {
   "cell_type": "markdown",
   "metadata": {},
   "source": [
    "Corner란?\n",
    "* 갑자기 객체가 변하는 경계 지점의 점을 말한다.\n",
    "* 두 개 또는 두 개 이상의 변화의 교차점을 말한다.\n",
    "  \n",
    "Corner를 검출하기 위한 조건\n",
    "* Detector를 통해 찾아낸 코너는 정확한 corner이여야 한다.\n",
    "* 잘못된 코너를 찾아서는 안된다.\n",
    "* 특징점은 매구 국부적(Localized)이어야 한다.(전체가 아닌 한 부분에만)\n",
    "* 특징점 검출에 있어서 잡음(noize)에 강건(Robust)해야 한다.\n",
    "* 효율적이어야 한다. (속도, 연산량 등, 알고리즘적이어야 한다.)\n",
    "  \n",
    "Corner Detector의 방법\n",
    "* 이미지의 밝기 값을 결정하는 알고리즘 [이미지의 밝기를 통하여 경계를 찾음]\n",
    "* 객체의 경계(boundarise)를 뽑아내고 나중에 이 모양을 분석하는 알고리즘 [선분을 찾고 선분을 이용하여 경계를 찾음]\n",
    "    + 선분 근사화(Line Approximation): 선분의 끝과 끝을 찾으려면 우리가 찾으려는 특징점이 된다.<br> 선분 근사화의 방법으로 아래의 방법도 있다.\n",
    "        - 곡률(Curvature)\n",
    "        - Strip Algorithm"
   ]
  },
  {
   "cell_type": "markdown",
   "metadata": {},
   "source": [
    "Harris corner detector를 이야기 하기 전에 먼저 Moravec corner detector에 대해 언급 해야된다.  \n",
    "Harris corner detector는 [Corner detector](https://www.ri.cmu.edu/pub_files/pub4/moravec_hans_1980_1/moravec_hans_1980_1.pdf)를 개선한 것이기 떄문에 배경을 알고가면 이해하기 쉽다.  "
   ]
  },
  {
   "cell_type": "code",
   "execution_count": null,
   "metadata": {
    "collapsed": true
   },
   "outputs": [],
   "source": []
  }
 ],
 "metadata": {
  "kernelspec": {
   "display_name": "Python [conda env:Anaconda3]",
   "language": "python",
   "name": "conda-env-Anaconda3-py"
  },
  "language_info": {
   "codemirror_mode": {
    "name": "ipython",
    "version": 3
   },
   "file_extension": ".py",
   "mimetype": "text/x-python",
   "name": "python",
   "nbconvert_exporter": "python",
   "pygments_lexer": "ipython3",
   "version": "3.6.1"
  }
 },
 "nbformat": 4,
 "nbformat_minor": 2
}
