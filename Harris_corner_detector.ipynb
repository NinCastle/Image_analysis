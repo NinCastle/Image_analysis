{
 "cells": [
  {
   "cell_type": "markdown",
   "metadata": {},
   "source": [
    "[Moravec corner detector](http://slideplayer.com/slide/4925858/)  \n",
    "[Programming Computer Vision with Python(p45)](http://programmingcomputervision.com/downloads/ProgrammingComputerVision_CCdraft.pdf)  \n",
    "[Features(Yung-Yu Chuang)](https://www.csie.ntu.edu.tw/~cyy/courses/vfx/07spring/lectures/handouts/lec04_feature_4up.pdf)  \n",
    "[살군의 보조기억 장치](https://salkuma.wordpress.com/tag/harris-corner-detector/)  \n",
    "[Corner Detection](http://carstart.tistory.com/186)  \n",
    "[OpenCV(Shi-Tomasi Corner Detector)](http://opencv-python-tutroals.readthedocs.io/en/latest/py_tutorials/py_feature2d/py_shi_tomasi/py_shi_tomasi.html)  \n",
    "[Harris Corner Detection-OpenCV](https://fahmifahim.com/tag/opencv/)  \n",
    "[다크 프로그래머(영상 특짐점 추출방법)](http://darkpgmr.tistory.com/131)  \n",
    "[노이즈와 가우시안 필터](http://matlabcode.blogspot.com/2007/03/blog-post_2628.html)  \n",
    "[가우시안 스무딩](http://iskim3068.tistory.com/41)  \n",
    "[행렬식-1(determinant)](https://ko.wikipedia.org/wiki/%ED%96%89%EB%A0%AC%EC%8B%9D)  \n",
    "[행렬식-2 구하는 방법](https://m.blog.naver.com/papers/220493181465)  \n",
    "[대각합(trace)](https://ko.wikipedia.org/wiki/%EB%8C%80%EA%B0%81%ED%95%A9)  \n",
    "[테일러 급수](http://darkpgmr.tistory.com/59)  \n",
    "[Sobel Operator](http://cinema4dr12.tistory.com/749)  \n",
    "아래 내용은 상기 링크를 정리한것"
   ]
  },
  {
   "cell_type": "markdown",
   "metadata": {},
   "source": [
    "# Harris corner detector[1988]"
   ]
  },
  {
   "cell_type": "markdown",
   "metadata": {},
   "source": [
    "## Coner detector"
   ]
  },
  {
   "cell_type": "markdown",
   "metadata": {},
   "source": [
    "Corner detector는 코너의 점을 찾는 것이다.  \n",
    "즉, 우리가 왜 코너를 찾는 것이 중요한지를 알아야한다.  \n",
    "![corner detector](http://opencv-python-tutroals.readthedocs.io/en/latest/_images/shitomasi_block1.jpg)  \n"
   ]
  },
  {
   "cell_type": "markdown",
   "metadata": {},
   "source": [
    "Corner통해 알아낸 점들은 정보이며,  \n",
    "그 정보는 모형(Shape)나 추적(Tracking)등의 분야에 중요한 기준점이 된다."
   ]
  },
  {
   "cell_type": "markdown",
   "metadata": {},
   "source": [
    "Corner란?\n",
    "* 갑자기 객체가 변하는 경계 지점의 점을 말한다.\n",
    "* 두 개 또는 두 개 이상의 변화의 교차점을 말한다.\n",
    "  \n",
    "Corner를 검출하기 위한 조건\n",
    "* Detector를 통해 찾아낸 코너는 정확한 corner이여야 한다.\n",
    "* 잘못된 코너를 찾아서는 안된다.\n",
    "* 특징점은 매우 국부적(Localized)이어야 한다.(전체가 아닌 한 부분에만)\n",
    "* 특징점 검출에 있어서 잡음(noize)에 강건(Robust)해야 한다.\n",
    "* 효율적이어야 한다. (속도, 연산량 등, 알고리즘적이어야 한다.)\n",
    "  \n",
    "Corner Detector의 방법\n",
    "* 이미지의 밝기 값을 결정하는 알고리즘 [이미지의 밝기를 통하여 경계를 찾음]\n",
    "* 객체의 경계(boundarise)를 뽑아내고 나중에 이 모양을 분석하는 알고리즘 [선분을 찾고 선분을 이용하여 경계를 찾음]\n",
    "    + 선분 근사화(Line Approximation): 선분의 끝과 끝을 찾으면 우리가 찾으려는 특징점이 된다.<br> 선분 근사화의 방법으로 아래의 방법도 있다.\n",
    "        - 곡률(Curvature)\n",
    "        - Strip Algorithm"
   ]
  },
  {
   "cell_type": "markdown",
   "metadata": {},
   "source": [
    "## Moravec Corner Detector"
   ]
  },
  {
   "cell_type": "markdown",
   "metadata": {},
   "source": [
    "Harris corner detector를 이야기 하기 전에 먼저 Moravec corner detector에 대해 언급 해야된다.  \n",
    "Harris corner detector는 [Moravec Corner Detector](https://www.ri.cmu.edu/pub_files/pub4/moravec_hans_1980_1/moravec_hans_1980_1.pdf)를 개선한 것이기 떄문에 배경을 알고가면 이해하기 쉽다.  "
   ]
  },
  {
   "cell_type": "markdown",
   "metadata": {
    "collapsed": true
   },
   "source": [
    "Moravec Conrner Detector의 핵심은 사각형 윈도우가 모든 방향으로 45도 간격으로 이동하면서 얻은 값을 가지고 코너(corner), 엣지(edge)가 있는지 여부를 판단하는 것 이다.  \n",
    "<br>\n",
    "왜 45도 간격인가 하면,  \n",
    "모든 방향으로 1픽셀씩 움직이면 결국 8방향.  \n",
    "즉, 45도 간격으로 밖에 되지 않기 때문이다.\n",
    "![45-1](http://player.slideplayer.com/16/4925858/data/images/img6.jpg) \n"
   ]
  },
  {
   "cell_type": "markdown",
   "metadata": {},
   "source": [
    "\n",
    "![](http://pds21.egloos.com/pds/201702/09/38/c0221538_589c03405d375.png)"
   ]
  },
  {
   "cell_type": "markdown",
   "metadata": {},
   "source": [
    "window funtion $w(x, y)$ = \n",
    "![window function](https://salkuma.files.wordpress.com/2014/05/binary-window.png?w=150&zoom=2)\n",
    "혹은 가우시안을 이용"
   ]
  },
  {
   "cell_type": "markdown",
   "metadata": {},
   "source": [
    "$$\n",
    "E(u, v) = \\sum_{x,y} w(x,y)[I(x+u, y+v)-I(x, y)]^2\n",
    "$$"
   ]
  },
  {
   "cell_type": "markdown",
   "metadata": {},
   "source": [
    "$I$는 이미지  \n",
    "$w$는 윈도우 함수  \n",
    "$E$는 $(u, v)$를 이동해가면서 intensity 변화량을 검출한 결과이다.  \n",
    "$(u, v)$를 $(1, 0), (1, 1), (0, 1), (-1, 1)$로 바꿔가며 네가지 변위를 측정해서 $min(E)$의 local maxima를 탐색한다.\n",
    "그러나 위의 그림에서 보듯이 Moravc은 아래와 같은 몇가지 문제를 안고 있다.\n",
    "1. 노이즈에 취약하다. - binary window function\n",
    "2. 45도 각도의 엣지만을 고려할 수 있다. - $(u,v)$ 이동 변위의 고정된 4개 픽셀 값\n",
    "3. $min(E)$ 값만 가지고 검출한다."
   ]
  },
  {
   "cell_type": "code",
   "execution_count": null,
   "metadata": {
    "collapsed": true
   },
   "outputs": [],
   "source": []
  },
  {
   "cell_type": "markdown",
   "metadata": {},
   "source": [
    "### 이미지에 존재하는 Edge를 감지하고자 할 때  \n",
    "Edge에서 명암이 급격하게 변화한다는 것을 알 수 있다.  \n",
    "이미지의 급격한 변화를 잘 표현할 수 있는 방법이 미분을 이용하는 방법이다.  \n",
    "<br>\n",
    "아래의 테스트 이미지를 보면 중간의 사선 부분이 Edge라는 것을 알 수 있다.  \n",
    "[Sobel Derivatives(1968)](http://cinema4dr12.tistory.com/749)로 Edge를 구하기 위해서 원본 이미지를 오른쪽처럼 Gray 처리를 한다.  \n",
    "![Edge](http://pds21.egloos.com/pds/201701/26/38/c0221538_58897c78b0df4.png)"
   ]
  },
  {
   "cell_type": "markdown",
   "metadata": {},
   "source": [
    "## Python"
   ]
  },
  {
   "cell_type": "code",
   "execution_count": 1,
   "metadata": {
    "collapsed": true
   },
   "outputs": [],
   "source": [
    "from scipy.ndimage import filters\n",
    "def compute_harris_response(im,sigma=3):\n",
    "    \"\"\" Compute the Harris corner detector response function\n",
    "    for each pixel in a graylevel image. \"\"\"\n",
    "    \n",
    "    # derivatives\n",
    "    imx = zeros(im.shape)\n",
    "    filters.gaussian_filter(im, (sigma,sigma), (0,1), imx)\n",
    "    imy = zeros(im.shape)\n",
    "    filters.gaussian_filter(im, (sigma,sigma), (1,0), imy)\n",
    "    \n",
    "    # compute components of the Harris matrix\n",
    "    Wxx = filters.gaussian_filter(imx*imx,sigma)\n",
    "    Wxy = filters.gaussian_filter(imx*imy,sigma)\n",
    "    Wyy = filters.gaussian_filter(imy*imy,sigma)\n",
    "    \n",
    "    # determinant and trace\n",
    "    Wdet = Wxx*Wyy - Wxy**2\n",
    "    Wtr = Wxx + Wyy\n",
    "    \n",
    "    return Wdet / Wtr"
   ]
  },
  {
   "cell_type": "code",
   "execution_count": 2,
   "metadata": {
    "collapsed": true
   },
   "outputs": [],
   "source": [
    "def get_harris_points(harrisim,min_dist=10,threshold=0.1):\n",
    "    \"\"\" Return corners from a Harris response image\n",
    "    min_dist is the minimum number of pixels separating\n",
    "    corners and image boundary. \"\"\"\n",
    "    \n",
    "    # find top corner candidates above a threshold\n",
    "    corner_threshold = harrisim.max() * threshold\n",
    "    harrisim_t = (harrisim > corner_threshold) * 1\n",
    "    \n",
    "    # get coordinates of candidates\n",
    "    coords = array(harrisim_t.nonzero()).T\n",
    "    \n",
    "    # ...and their values\n",
    "    candidate_values = [harrisim[c[0],c[1]] for c in coords]\n",
    "    \n",
    "    # sort candidates\n",
    "    index = argsort(candidate_values)\n",
    "    \n",
    "    # store allowed point locations in array\n",
    "    allowed_locations = zeros(harrisim.shape)\n",
    "    allowed_locations[min_dist:-min_dist,min_dist:-min_dist] = 1\n",
    "    \n",
    "    # select the best points taking min_distance into account\n",
    "    filtered_coords = []\n",
    "    for i in index:\n",
    "        if allowed_locations[coords[i,0],coords[i,1]] == 1:\n",
    "            filtered_coords.append(coords[i])\n",
    "            allowed_locations[(coords[i,0]-min_dist):(coords[i,0]+min_dist), (coords[i,1]-min_dist):(coords[i,1]+min_dist)] = 0\n",
    "    return filtered_coords        "
   ]
  },
  {
   "cell_type": "code",
   "execution_count": null,
   "metadata": {
    "collapsed": true
   },
   "outputs": [],
   "source": [
    "def plot_harris_points(image,filtered_coords):\n",
    "    \"\"\" Plots corners found in image. \"\"\"\n",
    "    figure()\n",
    "    gray()\n",
    "    imshow(image)\n",
    "    plot([p[1] for p in filtered_coords],[p[0] for p in filtered_coords],'*')\n",
    "    axis('off')\n",
    "    show()"
   ]
  },
  {
   "cell_type": "code",
   "execution_count": 3,
   "metadata": {},
   "outputs": [
    {
     "ename": "NameError",
     "evalue": "name 'array' is not defined",
     "output_type": "error",
     "traceback": [
      "\u001b[1;31m---------------------------------------------------------------------------\u001b[0m",
      "\u001b[1;31mNameError\u001b[0m                                 Traceback (most recent call last)",
      "\u001b[1;32m<ipython-input-3-01de09562b7c>\u001b[0m in \u001b[0;36m<module>\u001b[1;34m()\u001b[0m\n\u001b[1;32m----> 1\u001b[1;33m \u001b[0mim\u001b[0m \u001b[1;33m=\u001b[0m \u001b[0marray\u001b[0m\u001b[1;33m(\u001b[0m\u001b[0mImage\u001b[0m\u001b[1;33m.\u001b[0m\u001b[0mopen\u001b[0m\u001b[1;33m(\u001b[0m\u001b[1;34m'empire.jpg'\u001b[0m\u001b[1;33m)\u001b[0m\u001b[1;33m.\u001b[0m\u001b[0mconvert\u001b[0m\u001b[1;33m(\u001b[0m\u001b[1;34m'L'\u001b[0m\u001b[1;33m)\u001b[0m\u001b[1;33m)\u001b[0m\u001b[1;33m\u001b[0m\u001b[0m\n\u001b[0m\u001b[0;32m      2\u001b[0m \u001b[0mharrisim\u001b[0m \u001b[1;33m=\u001b[0m \u001b[0mharris\u001b[0m\u001b[1;33m.\u001b[0m\u001b[0mcompute_harris_response\u001b[0m\u001b[1;33m(\u001b[0m\u001b[0mim\u001b[0m\u001b[1;33m)\u001b[0m\u001b[1;33m\u001b[0m\u001b[0m\n\u001b[0;32m      3\u001b[0m \u001b[0mfiltered_coords\u001b[0m \u001b[1;33m=\u001b[0m \u001b[0mharris\u001b[0m\u001b[1;33m.\u001b[0m\u001b[0mget_harris_points\u001b[0m\u001b[1;33m(\u001b[0m\u001b[0mharrisim\u001b[0m\u001b[1;33m,\u001b[0m\u001b[1;36m6\u001b[0m\u001b[1;33m)\u001b[0m\u001b[1;33m\u001b[0m\u001b[0m\n\u001b[0;32m      4\u001b[0m \u001b[0mharris\u001b[0m\u001b[1;33m.\u001b[0m\u001b[0mplot_harris_points\u001b[0m\u001b[1;33m(\u001b[0m\u001b[0mim\u001b[0m\u001b[1;33m,\u001b[0m \u001b[0mfiltered_coords\u001b[0m\u001b[1;33m)\u001b[0m\u001b[1;33m\u001b[0m\u001b[0m\n",
      "\u001b[1;31mNameError\u001b[0m: name 'array' is not defined"
     ]
    }
   ],
   "source": [
    "im = array(Image.open('empire.jpg').convert('L'))\n",
    "harrisim = harris.compute_harris_response(im)\n",
    "filtered_coords = harris.get_harris_points(harrisim,6)\n",
    "harris.plot_harris_points(im, filtered_coords)"
   ]
  },
  {
   "cell_type": "code",
   "execution_count": null,
   "metadata": {
    "collapsed": true
   },
   "outputs": [],
   "source": []
  }
 ],
 "metadata": {
  "kernelspec": {
   "display_name": "Python [conda env:Anaconda3]",
   "language": "python",
   "name": "conda-env-Anaconda3-py"
  },
  "language_info": {
   "codemirror_mode": {
    "name": "ipython",
    "version": 3
   },
   "file_extension": ".py",
   "mimetype": "text/x-python",
   "name": "python",
   "nbconvert_exporter": "python",
   "pygments_lexer": "ipython3",
   "version": "3.6.1"
  }
 },
 "nbformat": 4,
 "nbformat_minor": 2
}
